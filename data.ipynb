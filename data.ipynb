{
 "cells": [
  {
   "cell_type": "code",
   "execution_count": 1,
   "metadata": {},
   "outputs": [],
   "source": [
    "import cvxpy as cp\n",
    "import numpy as np\n",
    "import pandas as pd\n",
    "import yaml"
   ]
  },
  {
   "cell_type": "code",
   "execution_count": 12,
   "metadata": {},
   "outputs": [],
   "source": [
    "# Load yaml config file\n",
    "with open(\"config.yaml\", \"r\") as f:\n",
    "    config = yaml.safe_load(f)\n",
    "\n",
    "# Load data\n",
    "weights = pd.read_csv(config[\"weights_path\"], index_col=0)"
   ]
  },
  {
   "cell_type": "code",
   "execution_count": 15,
   "metadata": {},
   "outputs": [
    {
     "data": {
      "text/plain": [
       "2019-02-01    0.421525\n",
       "2019-03-01    0.999996\n",
       "2019-04-01    0.999999\n",
       "2019-05-01    1.000000\n",
       "2019-06-01         NaN\n",
       "2019-07-01    1.000000\n",
       "2019-08-01         NaN\n",
       "2019-09-01         NaN\n",
       "2019-10-01         NaN\n",
       "2019-11-01         NaN\n",
       "2019-12-01         NaN\n",
       "dtype: float64"
      ]
     },
     "execution_count": 15,
     "metadata": {},
     "output_type": "execute_result"
    }
   ],
   "source": [
    "weights.max(axis=1)"
   ]
  },
  {
   "cell_type": "code",
   "execution_count": 3,
   "metadata": {},
   "outputs": [],
   "source": [
    "# is the covariance matrix positive semidefinite?\n",
    "if not np.all(np.linalg.eigvals(cov) > 0):\n",
    "    print(\"Covariance matrix is not positive definite\")"
   ]
  },
  {
   "cell_type": "code",
   "execution_count": 4,
   "metadata": {},
   "outputs": [],
   "source": [
    "def optimize(mean, cov):\n",
    "    w = cp.Variable(len(mean))\n",
    "    objective = cp.Maximize(mean.T @w)\n",
    "    constraints = [cp.sum(w) == 1, w >= 0, cp.quad_form(w, cov) <= 0.01]\n",
    "    problem = cp.Problem(objective, constraints)\n",
    "    problem.solve(verbose=True)\n",
    "    return w.value, problem.value\n",
    "    "
   ]
  },
  {
   "cell_type": "code",
   "execution_count": 10,
   "metadata": {},
   "outputs": [
    {
     "name": "stdout",
     "output_type": "stream",
     "text": [
      "===============================================================================\n",
      "                                     CVXPY                                     \n",
      "                                     v1.4.2                                    \n",
      "===============================================================================\n",
      "(CVXPY) Mar 22 12:16:56 AM: Your problem has 561 variables, 3 constraints, and 0 parameters.\n"
     ]
    },
    {
     "name": "stdout",
     "output_type": "stream",
     "text": [
      "(CVXPY) Mar 22 12:16:57 AM: It is compliant with the following grammars: DCP, DQCP\n",
      "(CVXPY) Mar 22 12:16:57 AM: (If you need to solve this problem multiple times, but with different data, consider using parameters.)\n",
      "(CVXPY) Mar 22 12:16:57 AM: CVXPY will first compile your problem; then, it will invoke a numerical solver to obtain a solution.\n",
      "(CVXPY) Mar 22 12:16:57 AM: Your problem is compiled with the CPP canonicalization backend.\n",
      "-------------------------------------------------------------------------------\n",
      "                                  Compilation                                  \n",
      "-------------------------------------------------------------------------------\n",
      "(CVXPY) Mar 22 12:16:57 AM: Compiling problem (target solver=ECOS).\n",
      "(CVXPY) Mar 22 12:16:57 AM: Reduction chain: FlipObjective -> Dcp2Cone -> CvxAttr2Constr -> ConeMatrixStuffing -> ECOS\n",
      "(CVXPY) Mar 22 12:16:57 AM: Applying reduction FlipObjective\n",
      "(CVXPY) Mar 22 12:16:57 AM: Applying reduction Dcp2Cone\n",
      "(CVXPY) Mar 22 12:16:58 AM: Applying reduction CvxAttr2Constr\n",
      "(CVXPY) Mar 22 12:16:58 AM: Applying reduction ConeMatrixStuffing\n"
     ]
    },
    {
     "name": "stderr",
     "output_type": "stream",
     "text": [
      "c:\\Users\\fotis\\Documents\\Centrale - 2A\\Projet-ST7\\env\\lib\\site-packages\\cvxpy\\reductions\\solvers\\solving_chain.py:336: FutureWarning: \n",
      "    Your problem is being solved with the ECOS solver by default. Starting in \n",
      "    CVXPY 1.5.0, Clarabel will be used as the default solver instead. To continue \n",
      "    using ECOS, specify the ECOS solver explicitly using the ``solver=cp.ECOS`` \n",
      "    argument to the ``problem.solve`` method.\n",
      "    \n",
      "  warnings.warn(ECOS_DEPRECATION_MSG, FutureWarning)\n"
     ]
    },
    {
     "name": "stdout",
     "output_type": "stream",
     "text": [
      "(CVXPY) Mar 22 12:16:58 AM: Applying reduction ECOS\n",
      "(CVXPY) Mar 22 12:16:58 AM: Finished problem compilation (took 2.899e-01 seconds).\n",
      "-------------------------------------------------------------------------------\n",
      "                                Numerical solver                               \n",
      "-------------------------------------------------------------------------------\n",
      "(CVXPY) Mar 22 12:16:58 AM: Invoking solver ECOS  to obtain a solution.\n",
      "-------------------------------------------------------------------------------\n",
      "                                    Summary                                    \n",
      "-------------------------------------------------------------------------------\n",
      "(CVXPY) Mar 22 12:16:59 AM: Problem status: optimal_inaccurate\n",
      "(CVXPY) Mar 22 12:16:59 AM: Optimal value: 1.000e+00\n",
      "(CVXPY) Mar 22 12:16:59 AM: Compilation took 2.899e-01 seconds\n",
      "(CVXPY) Mar 22 12:16:59 AM: Solver (including time spent in interface) took 1.195e+00 seconds\n"
     ]
    },
    {
     "name": "stderr",
     "output_type": "stream",
     "text": [
      "c:\\Users\\fotis\\Documents\\Centrale - 2A\\Projet-ST7\\env\\lib\\site-packages\\cvxpy\\problems\\problem.py:1403: UserWarning: Solution may be inaccurate. Try another solver, adjusting the solver settings, or solve with verbose=True for more information.\n",
      "  warnings.warn(\n"
     ]
    }
   ],
   "source": [
    "# Rescale mean in [-1, 1]\n",
    "mean = 2 * (mean - np.min(mean)) / (np.max(mean) - np.min(mean)) - 1\n",
    "\n",
    "# Optimize\n",
    "w, value = optimize(mean, cov)\n"
   ]
  },
  {
   "cell_type": "code",
   "execution_count": null,
   "metadata": {},
   "outputs": [],
   "source": []
  },
  {
   "cell_type": "code",
   "execution_count": null,
   "metadata": {},
   "outputs": [],
   "source": []
  }
 ],
 "metadata": {
  "kernelspec": {
   "display_name": "env",
   "language": "python",
   "name": "python3"
  },
  "language_info": {
   "codemirror_mode": {
    "name": "ipython",
    "version": 3
   },
   "file_extension": ".py",
   "mimetype": "text/x-python",
   "name": "python",
   "nbconvert_exporter": "python",
   "pygments_lexer": "ipython3",
   "version": "3.10.8"
  }
 },
 "nbformat": 4,
 "nbformat_minor": 2
}
