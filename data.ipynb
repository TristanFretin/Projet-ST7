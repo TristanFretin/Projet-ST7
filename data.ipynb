{
 "cells": [
  {
   "cell_type": "code",
   "execution_count": 1,
   "metadata": {},
   "outputs": [],
   "source": [
    "import cvxpy as cp\n",
    "import numpy as np\n",
    "import pandas as pd\n",
    "import yaml"
   ]
  },
  {
   "cell_type": "code",
   "execution_count": 2,
   "metadata": {},
   "outputs": [],
   "source": [
    "# Load yaml config file\n",
    "with open(\"config.yaml\", \"r\") as f:\n",
    "    config = yaml.safe_load(f)\n",
    "\n",
    "# Load data\n",
    "sp = pd.read_csv(config[\"Prices_path\"])\n",
    "sp[\"Date\"] = pd.to_datetime(sp[\"Date\"])\n",
    "sp.set_index(\"Date\", inplace=True)"
   ]
  },
  {
   "cell_type": "code",
   "execution_count": 7,
   "metadata": {},
   "outputs": [],
   "source": [
    "def optimize(mean, cov_fixed):\n",
    "    # Is covariance matrix positive definite? Check if all eigenvalues are positive\n",
    "    for eig in np.linalg.eigvals(cov_fixed):\n",
    "        if eig <= 0:\n",
    "            print(\"Covariance matrix is not positive definite\")\n",
    "            break\n",
    "\n",
    "    w = cp.Variable(len(mean))\n",
    "    objective = cp.Maximize(mean.T @ w)\n",
    "    constraints = [cp.sum(w) == 1, w >= 0]\n",
    "    prob = cp.Problem(objective, constraints)\n",
    "    prob.solve(verbose=True)\n",
    "\n",
    "    return w.value"
   ]
  },
  {
   "cell_type": "code",
   "execution_count": 8,
   "metadata": {},
   "outputs": [
    {
     "data": {
      "text/plain": [
       "DatetimeIndex(['2010-02-01', '2010-03-01', '2010-04-01', '2010-05-01',\n",
       "               '2010-06-01', '2010-07-01', '2010-08-01', '2010-09-01',\n",
       "               '2010-10-01', '2010-11-01',\n",
       "               ...\n",
       "               '2023-06-01', '2023-07-01', '2023-08-01', '2023-09-01',\n",
       "               '2023-10-01', '2023-11-01', '2023-12-01', '2024-01-01',\n",
       "               '2024-02-01', '2024-03-01'],\n",
       "              dtype='datetime64[ns]', length=170, freq='MS')"
      ]
     },
     "execution_count": 8,
     "metadata": {},
     "output_type": "execute_result"
    }
   ],
   "source": [
    "# Generate dates for the beggining of each month\n",
    "dates = pd.date_range(start=sp.index[0], end=sp.index[-1], freq=\"MS\")\n",
    "dates"
   ]
  },
  {
   "cell_type": "code",
   "execution_count": 9,
   "metadata": {},
   "outputs": [
    {
     "name": "stdout",
     "output_type": "stream",
     "text": [
      "===============================================================================\n",
      "                                     CVXPY                                     \n",
      "                                     v1.4.2                                    \n",
      "===============================================================================\n",
      "(CVXPY) Mar 21 11:00:38 PM: Your problem has 561 variables, 2 constraints, and 0 parameters.\n",
      "(CVXPY) Mar 21 11:00:38 PM: It is compliant with the following grammars: DCP, DQCP\n",
      "(CVXPY) Mar 21 11:00:38 PM: (If you need to solve this problem multiple times, but with different data, consider using parameters.)\n",
      "(CVXPY) Mar 21 11:00:38 PM: CVXPY will first compile your problem; then, it will invoke a numerical solver to obtain a solution.\n",
      "(CVXPY) Mar 21 11:00:38 PM: Your problem is compiled with the CPP canonicalization backend.\n",
      "-------------------------------------------------------------------------------\n",
      "                                  Compilation                                  \n",
      "-------------------------------------------------------------------------------\n",
      "(CVXPY) Mar 21 11:00:38 PM: Compiling problem (target solver=ECOS).\n",
      "(CVXPY) Mar 21 11:00:38 PM: Reduction chain: FlipObjective -> Dcp2Cone -> CvxAttr2Constr -> ConeMatrixStuffing -> ECOS\n",
      "(CVXPY) Mar 21 11:00:38 PM: Applying reduction FlipObjective\n",
      "(CVXPY) Mar 21 11:00:38 PM: Applying reduction Dcp2Cone\n",
      "(CVXPY) Mar 21 11:00:38 PM: Applying reduction CvxAttr2Constr\n",
      "(CVXPY) Mar 21 11:00:38 PM: Applying reduction ConeMatrixStuffing\n",
      "(CVXPY) Mar 21 11:00:38 PM: Applying reduction ECOS\n",
      "(CVXPY) Mar 21 11:00:38 PM: Finished problem compilation (took 1.563e-02 seconds).\n",
      "-------------------------------------------------------------------------------\n",
      "                                Numerical solver                               \n",
      "-------------------------------------------------------------------------------\n",
      "(CVXPY) Mar 21 11:00:38 PM: Invoking solver ECOS  to obtain a solution.\n"
     ]
    },
    {
     "name": "stderr",
     "output_type": "stream",
     "text": [
      "c:\\Users\\fotis\\Documents\\Centrale - 2A\\Projet-ST7\\env\\lib\\site-packages\\cvxpy\\reductions\\solvers\\solving_chain.py:336: FutureWarning: \n",
      "    Your problem is being solved with the ECOS solver by default. Starting in \n",
      "    CVXPY 1.5.0, Clarabel will be used as the default solver instead. To continue \n",
      "    using ECOS, specify the ECOS solver explicitly using the ``solver=cp.ECOS`` \n",
      "    argument to the ``problem.solve`` method.\n",
      "    \n",
      "  warnings.warn(ECOS_DEPRECATION_MSG, FutureWarning)\n"
     ]
    },
    {
     "ename": "SolverError",
     "evalue": "Solver 'ECOS' failed. Try another solver, or solve with verbose=True for more information.",
     "output_type": "error",
     "traceback": [
      "\u001b[1;31m---------------------------------------------------------------------------\u001b[0m",
      "\u001b[1;31mSolverError\u001b[0m                               Traceback (most recent call last)",
      "Cell \u001b[1;32mIn[9], line 15\u001b[0m\n\u001b[0;32m     11\u001b[0m cov \u001b[38;5;241m=\u001b[39m sp_past_window\u001b[38;5;241m.\u001b[39mcov()\u001b[38;5;241m.\u001b[39mvalues\n\u001b[0;32m     13\u001b[0m cov_fixed \u001b[38;5;241m=\u001b[39m cov \u001b[38;5;241m+\u001b[39m \u001b[38;5;241m0.1\u001b[39m \u001b[38;5;241m*\u001b[39m np\u001b[38;5;241m.\u001b[39midentity(\u001b[38;5;28mlen\u001b[39m(mean))\n\u001b[1;32m---> 15\u001b[0m w \u001b[38;5;241m=\u001b[39m \u001b[43moptimize\u001b[49m\u001b[43m(\u001b[49m\u001b[43mmean\u001b[49m\u001b[43m,\u001b[49m\u001b[43m \u001b[49m\u001b[43mcov_fixed\u001b[49m\u001b[43m)\u001b[49m\n\u001b[0;32m     16\u001b[0m \u001b[38;5;28mprint\u001b[39m(w)\n\u001b[0;32m     18\u001b[0m \u001b[38;5;28;01mbreak\u001b[39;00m\n",
      "Cell \u001b[1;32mIn[7], line 12\u001b[0m, in \u001b[0;36moptimize\u001b[1;34m(mean, cov_fixed)\u001b[0m\n\u001b[0;32m     10\u001b[0m constraints \u001b[38;5;241m=\u001b[39m [cp\u001b[38;5;241m.\u001b[39msum(w) \u001b[38;5;241m==\u001b[39m \u001b[38;5;241m1\u001b[39m, w \u001b[38;5;241m>\u001b[39m\u001b[38;5;241m=\u001b[39m \u001b[38;5;241m0\u001b[39m]\n\u001b[0;32m     11\u001b[0m prob \u001b[38;5;241m=\u001b[39m cp\u001b[38;5;241m.\u001b[39mProblem(objective, constraints)\n\u001b[1;32m---> 12\u001b[0m \u001b[43mprob\u001b[49m\u001b[38;5;241;43m.\u001b[39;49m\u001b[43msolve\u001b[49m\u001b[43m(\u001b[49m\u001b[43mverbose\u001b[49m\u001b[38;5;241;43m=\u001b[39;49m\u001b[38;5;28;43;01mTrue\u001b[39;49;00m\u001b[43m)\u001b[49m\n\u001b[0;32m     14\u001b[0m \u001b[38;5;28;01mreturn\u001b[39;00m w\u001b[38;5;241m.\u001b[39mvalue\n",
      "File \u001b[1;32mc:\\Users\\fotis\\Documents\\Centrale - 2A\\Projet-ST7\\env\\lib\\site-packages\\cvxpy\\problems\\problem.py:503\u001b[0m, in \u001b[0;36mProblem.solve\u001b[1;34m(self, *args, **kwargs)\u001b[0m\n\u001b[0;32m    501\u001b[0m \u001b[38;5;28;01melse\u001b[39;00m:\n\u001b[0;32m    502\u001b[0m     solve_func \u001b[38;5;241m=\u001b[39m Problem\u001b[38;5;241m.\u001b[39m_solve\n\u001b[1;32m--> 503\u001b[0m \u001b[38;5;28;01mreturn\u001b[39;00m solve_func(\u001b[38;5;28mself\u001b[39m, \u001b[38;5;241m*\u001b[39margs, \u001b[38;5;241m*\u001b[39m\u001b[38;5;241m*\u001b[39mkwargs)\n",
      "File \u001b[1;32mc:\\Users\\fotis\\Documents\\Centrale - 2A\\Projet-ST7\\env\\lib\\site-packages\\cvxpy\\problems\\problem.py:1086\u001b[0m, in \u001b[0;36mProblem._solve\u001b[1;34m(self, solver, warm_start, verbose, gp, qcp, requires_grad, enforce_dpp, ignore_dpp, canon_backend, **kwargs)\u001b[0m\n\u001b[0;32m   1084\u001b[0m end \u001b[38;5;241m=\u001b[39m time\u001b[38;5;241m.\u001b[39mtime()\n\u001b[0;32m   1085\u001b[0m \u001b[38;5;28mself\u001b[39m\u001b[38;5;241m.\u001b[39m_solve_time \u001b[38;5;241m=\u001b[39m end \u001b[38;5;241m-\u001b[39m start\n\u001b[1;32m-> 1086\u001b[0m \u001b[38;5;28;43mself\u001b[39;49m\u001b[38;5;241;43m.\u001b[39;49m\u001b[43munpack_results\u001b[49m\u001b[43m(\u001b[49m\u001b[43msolution\u001b[49m\u001b[43m,\u001b[49m\u001b[43m \u001b[49m\u001b[43msolving_chain\u001b[49m\u001b[43m,\u001b[49m\u001b[43m \u001b[49m\u001b[43minverse_data\u001b[49m\u001b[43m)\u001b[49m\n\u001b[0;32m   1087\u001b[0m \u001b[38;5;28;01mif\u001b[39;00m verbose:\n\u001b[0;32m   1088\u001b[0m     \u001b[38;5;28mprint\u001b[39m(_FOOTER)\n",
      "File \u001b[1;32mc:\\Users\\fotis\\Documents\\Centrale - 2A\\Projet-ST7\\env\\lib\\site-packages\\cvxpy\\problems\\problem.py:1411\u001b[0m, in \u001b[0;36mProblem.unpack_results\u001b[1;34m(self, solution, chain, inverse_data)\u001b[0m\n\u001b[0;32m   1409\u001b[0m     warnings\u001b[38;5;241m.\u001b[39mwarn(INF_OR_UNB_MESSAGE)\n\u001b[0;32m   1410\u001b[0m \u001b[38;5;28;01mif\u001b[39;00m solution\u001b[38;5;241m.\u001b[39mstatus \u001b[38;5;129;01min\u001b[39;00m s\u001b[38;5;241m.\u001b[39mERROR:\n\u001b[1;32m-> 1411\u001b[0m     \u001b[38;5;28;01mraise\u001b[39;00m error\u001b[38;5;241m.\u001b[39mSolverError(\n\u001b[0;32m   1412\u001b[0m             \u001b[38;5;124m\"\u001b[39m\u001b[38;5;124mSolver \u001b[39m\u001b[38;5;124m'\u001b[39m\u001b[38;5;132;01m%s\u001b[39;00m\u001b[38;5;124m'\u001b[39m\u001b[38;5;124m failed. \u001b[39m\u001b[38;5;124m\"\u001b[39m \u001b[38;5;241m%\u001b[39m chain\u001b[38;5;241m.\u001b[39msolver\u001b[38;5;241m.\u001b[39mname() \u001b[38;5;241m+\u001b[39m\n\u001b[0;32m   1413\u001b[0m             \u001b[38;5;124m\"\u001b[39m\u001b[38;5;124mTry another solver, or solve with verbose=True for more \u001b[39m\u001b[38;5;124m\"\u001b[39m\n\u001b[0;32m   1414\u001b[0m             \u001b[38;5;124m\"\u001b[39m\u001b[38;5;124minformation.\u001b[39m\u001b[38;5;124m\"\u001b[39m)\n\u001b[0;32m   1416\u001b[0m \u001b[38;5;28mself\u001b[39m\u001b[38;5;241m.\u001b[39munpack(solution)\n\u001b[0;32m   1417\u001b[0m \u001b[38;5;28mself\u001b[39m\u001b[38;5;241m.\u001b[39m_solver_stats \u001b[38;5;241m=\u001b[39m SolverStats\u001b[38;5;241m.\u001b[39mfrom_dict(\u001b[38;5;28mself\u001b[39m\u001b[38;5;241m.\u001b[39m_solution\u001b[38;5;241m.\u001b[39mattr,\n\u001b[0;32m   1418\u001b[0m                                  chain\u001b[38;5;241m.\u001b[39msolver\u001b[38;5;241m.\u001b[39mname())\n",
      "\u001b[1;31mSolverError\u001b[0m: Solver 'ECOS' failed. Try another solver, or solve with verbose=True for more information."
     ]
    }
   ],
   "source": [
    "monhts_past = 3\n",
    "\n",
    "for date in dates:\n",
    "    sp_past_window = sp.loc[date - pd.DateOffset(months=monhts_past) : date]\n",
    "    # drop lines with NaN\n",
    "    sp_past_window_returns = sp_past_window.pct_change().fillna(0)\n",
    "    sp_past_window_returns = sp_past_window_returns.iloc[1:] # drop first line with Nan\n",
    "\n",
    "    # Mean and covariance matrix\n",
    "    mean = sp_past_window_returns.mean().values\n",
    "    cov = sp_past_window.cov().values\n",
    "\n",
    "    cov_fixed = cov + 0.1 * np.identity(len(mean))\n",
    "    \n",
    "    w = optimize(mean, cov_fixed)\n",
    "    print(w)\n",
    "\n",
    "    break"
   ]
  },
  {
   "cell_type": "code",
   "execution_count": null,
   "metadata": {},
   "outputs": [
    {
     "ename": "SolverError",
     "evalue": "Solver 'ECOS' failed. Try another solver, or solve with verbose=True for more information.",
     "output_type": "error",
     "traceback": [
      "\u001b[1;31m---------------------------------------------------------------------------\u001b[0m",
      "\u001b[1;31mSolverError\u001b[0m                               Traceback (most recent call last)",
      "Cell \u001b[1;32mIn[202], line 1\u001b[0m\n\u001b[1;32m----> 1\u001b[0m \u001b[43moptimize\u001b[49m\u001b[43m(\u001b[49m\u001b[43mmean\u001b[49m\u001b[43m,\u001b[49m\u001b[43m \u001b[49m\u001b[43mcov_fixed\u001b[49m\u001b[43m)\u001b[49m\n",
      "Cell \u001b[1;32mIn[199], line 13\u001b[0m, in \u001b[0;36moptimize\u001b[1;34m(mean, cov_fixed)\u001b[0m\n\u001b[0;32m     11\u001b[0m constraints \u001b[38;5;241m=\u001b[39m [cp\u001b[38;5;241m.\u001b[39msum(w) \u001b[38;5;241m==\u001b[39m \u001b[38;5;241m1\u001b[39m, w \u001b[38;5;241m>\u001b[39m\u001b[38;5;241m=\u001b[39m \u001b[38;5;241m0\u001b[39m]\n\u001b[0;32m     12\u001b[0m prob \u001b[38;5;241m=\u001b[39m cp\u001b[38;5;241m.\u001b[39mProblem(objective, constraints)\n\u001b[1;32m---> 13\u001b[0m \u001b[43mprob\u001b[49m\u001b[38;5;241;43m.\u001b[39;49m\u001b[43msolve\u001b[49m\u001b[43m(\u001b[49m\u001b[43m)\u001b[49m\n\u001b[0;32m     15\u001b[0m \u001b[38;5;28;01mreturn\u001b[39;00m w\u001b[38;5;241m.\u001b[39mvalue\n",
      "File \u001b[1;32mc:\\Users\\fotis\\Documents\\Centrale - 2A\\Projet-ST7\\env\\lib\\site-packages\\cvxpy\\problems\\problem.py:503\u001b[0m, in \u001b[0;36mProblem.solve\u001b[1;34m(self, *args, **kwargs)\u001b[0m\n\u001b[0;32m    501\u001b[0m \u001b[38;5;28;01melse\u001b[39;00m:\n\u001b[0;32m    502\u001b[0m     solve_func \u001b[38;5;241m=\u001b[39m Problem\u001b[38;5;241m.\u001b[39m_solve\n\u001b[1;32m--> 503\u001b[0m \u001b[38;5;28;01mreturn\u001b[39;00m solve_func(\u001b[38;5;28mself\u001b[39m, \u001b[38;5;241m*\u001b[39margs, \u001b[38;5;241m*\u001b[39m\u001b[38;5;241m*\u001b[39mkwargs)\n",
      "File \u001b[1;32mc:\\Users\\fotis\\Documents\\Centrale - 2A\\Projet-ST7\\env\\lib\\site-packages\\cvxpy\\problems\\problem.py:1086\u001b[0m, in \u001b[0;36mProblem._solve\u001b[1;34m(self, solver, warm_start, verbose, gp, qcp, requires_grad, enforce_dpp, ignore_dpp, canon_backend, **kwargs)\u001b[0m\n\u001b[0;32m   1084\u001b[0m end \u001b[38;5;241m=\u001b[39m time\u001b[38;5;241m.\u001b[39mtime()\n\u001b[0;32m   1085\u001b[0m \u001b[38;5;28mself\u001b[39m\u001b[38;5;241m.\u001b[39m_solve_time \u001b[38;5;241m=\u001b[39m end \u001b[38;5;241m-\u001b[39m start\n\u001b[1;32m-> 1086\u001b[0m \u001b[38;5;28;43mself\u001b[39;49m\u001b[38;5;241;43m.\u001b[39;49m\u001b[43munpack_results\u001b[49m\u001b[43m(\u001b[49m\u001b[43msolution\u001b[49m\u001b[43m,\u001b[49m\u001b[43m \u001b[49m\u001b[43msolving_chain\u001b[49m\u001b[43m,\u001b[49m\u001b[43m \u001b[49m\u001b[43minverse_data\u001b[49m\u001b[43m)\u001b[49m\n\u001b[0;32m   1087\u001b[0m \u001b[38;5;28;01mif\u001b[39;00m verbose:\n\u001b[0;32m   1088\u001b[0m     \u001b[38;5;28mprint\u001b[39m(_FOOTER)\n",
      "File \u001b[1;32mc:\\Users\\fotis\\Documents\\Centrale - 2A\\Projet-ST7\\env\\lib\\site-packages\\cvxpy\\problems\\problem.py:1411\u001b[0m, in \u001b[0;36mProblem.unpack_results\u001b[1;34m(self, solution, chain, inverse_data)\u001b[0m\n\u001b[0;32m   1409\u001b[0m     warnings\u001b[38;5;241m.\u001b[39mwarn(INF_OR_UNB_MESSAGE)\n\u001b[0;32m   1410\u001b[0m \u001b[38;5;28;01mif\u001b[39;00m solution\u001b[38;5;241m.\u001b[39mstatus \u001b[38;5;129;01min\u001b[39;00m s\u001b[38;5;241m.\u001b[39mERROR:\n\u001b[1;32m-> 1411\u001b[0m     \u001b[38;5;28;01mraise\u001b[39;00m error\u001b[38;5;241m.\u001b[39mSolverError(\n\u001b[0;32m   1412\u001b[0m             \u001b[38;5;124m\"\u001b[39m\u001b[38;5;124mSolver \u001b[39m\u001b[38;5;124m'\u001b[39m\u001b[38;5;132;01m%s\u001b[39;00m\u001b[38;5;124m'\u001b[39m\u001b[38;5;124m failed. \u001b[39m\u001b[38;5;124m\"\u001b[39m \u001b[38;5;241m%\u001b[39m chain\u001b[38;5;241m.\u001b[39msolver\u001b[38;5;241m.\u001b[39mname() \u001b[38;5;241m+\u001b[39m\n\u001b[0;32m   1413\u001b[0m             \u001b[38;5;124m\"\u001b[39m\u001b[38;5;124mTry another solver, or solve with verbose=True for more \u001b[39m\u001b[38;5;124m\"\u001b[39m\n\u001b[0;32m   1414\u001b[0m             \u001b[38;5;124m\"\u001b[39m\u001b[38;5;124minformation.\u001b[39m\u001b[38;5;124m\"\u001b[39m)\n\u001b[0;32m   1416\u001b[0m \u001b[38;5;28mself\u001b[39m\u001b[38;5;241m.\u001b[39munpack(solution)\n\u001b[0;32m   1417\u001b[0m \u001b[38;5;28mself\u001b[39m\u001b[38;5;241m.\u001b[39m_solver_stats \u001b[38;5;241m=\u001b[39m SolverStats\u001b[38;5;241m.\u001b[39mfrom_dict(\u001b[38;5;28mself\u001b[39m\u001b[38;5;241m.\u001b[39m_solution\u001b[38;5;241m.\u001b[39mattr,\n\u001b[0;32m   1418\u001b[0m                                  chain\u001b[38;5;241m.\u001b[39msolver\u001b[38;5;241m.\u001b[39mname())\n",
      "\u001b[1;31mSolverError\u001b[0m: Solver 'ECOS' failed. Try another solver, or solve with verbose=True for more information."
     ]
    }
   ],
   "source": [
    "optimize(mean, cov_fixed)"
   ]
  },
  {
   "cell_type": "code",
   "execution_count": null,
   "metadata": {},
   "outputs": [],
   "source": [
    "Date = pd.to_datetime(\"2020-01-02\")\n",
    "monhts_past = 3\n",
    "\n",
    "# Get the stock data for the past months_past months\n",
    "sp_past_window = sp.loc[Date - pd.DateOffset(months=monhts_past) : Date]\n",
    "# drop lines with NaN\n",
    "sp_past_window_returns = sp_past_window.pct_change().fillna(0)\n",
    "sp_past_window_returns = sp_past_window_returns.iloc[1:] # drop first line with Nan\n",
    "\n",
    "\n",
    "# Mean and covariance matrix\n",
    "mean = sp_past_window_returns.mean().values\n",
    "cov =sp_past_window.cov().values\n",
    "\n",
    "cov_fixed = cov + 0.1 * np.identity(len(mean))\n"
   ]
  },
  {
   "cell_type": "code",
   "execution_count": null,
   "metadata": {},
   "outputs": [],
   "source": []
  }
 ],
 "metadata": {
  "kernelspec": {
   "display_name": "env",
   "language": "python",
   "name": "python3"
  },
  "language_info": {
   "codemirror_mode": {
    "name": "ipython",
    "version": 3
   },
   "file_extension": ".py",
   "mimetype": "text/x-python",
   "name": "python",
   "nbconvert_exporter": "python",
   "pygments_lexer": "ipython3",
   "version": "3.10.8"
  }
 },
 "nbformat": 4,
 "nbformat_minor": 2
}
