{
 "cells": [
  {
   "cell_type": "code",
   "execution_count": 96,
   "metadata": {},
   "outputs": [],
   "source": [
    "import pandas as pd\n",
    "import yaml\n",
    "\n",
    "# Load config file\n",
    "with open(\"config.yaml\", \"r\") as ymlfile:\n",
    "    cfg = yaml.safe_load(ymlfile)\n",
    "\n",
    "\n",
    "market_cap = pd.read_excel(cfg[\"Tickers_path\"], sheet_name=\"MarketCaps\")\n",
    "\n",
    "# Dictionnaire de correspondance\n",
    "correspondance = pd.read_excel(cfg[\"Tickers_path\"], sheet_name=\"Mapping\")\n",
    "sedols_to_tickers = correspondance[[\"Sedol\", \"Tickers\"]]\n",
    "sedol_to_ticker = dict(zip(sedols_to_tickers[\"Sedol\"], sedols_to_tickers[\"Tickers\"]))\n",
    "\n",
    "prices = pd.read_csv(cfg[\"Prices_path\"], index_col=0)\n",
    "\n",
    "market_cap = market_cap.set_index(\"Date\")\n",
    "market_cap.columns = [sedol_to_ticker[col] for col in market_cap.columns]\n",
    "\n",
    "market_cap = market_cap.resample('D').ffill()\n",
    "cutoff_day_start = prices.index[0]\n",
    "cutoff_day_end = prices.index[-1]\n",
    "\n",
    "market_cap = market_cap[market_cap.index >= cutoff_day_start]\n",
    "market_cap = market_cap[market_cap.index <= cutoff_day_end]\n",
    "\n",
    "prices.index = pd.to_datetime(prices.index)    \n",
    "market_cap.index = pd.to_datetime(market_cap.index)"
   ]
  },
  {
   "cell_type": "code",
   "execution_count": 106,
   "metadata": {},
   "outputs": [
    {
     "name": "stdout",
     "output_type": "stream",
     "text": [
      "Date\n",
      "2010-01-04    0.035406\n",
      "2010-01-05    0.035615\n",
      "2010-01-06    0.034970\n",
      "2010-01-07    0.034375\n",
      "2010-01-08    0.035306\n",
      "                ...   \n",
      "2019-12-24    2.889140\n",
      "2019-12-26    3.017610\n",
      "2019-12-27    3.019273\n",
      "2019-12-30    2.982279\n",
      "2019-12-31    2.993225\n",
      "Length: 2516, dtype: float64\n"
     ]
    }
   ],
   "source": [
    "df_merged = pd.merge(market_cap, prices, on='Date', how='inner')\n",
    "\n",
    "\n",
    "print(df_merged[\"AMZN_x\"] * df_merged[\"AMZN_y\"])"
   ]
  }
 ],
 "metadata": {
  "kernelspec": {
   "display_name": "env",
   "language": "python",
   "name": "python3"
  },
  "language_info": {
   "codemirror_mode": {
    "name": "ipython",
    "version": 3
   },
   "file_extension": ".py",
   "mimetype": "text/x-python",
   "name": "python",
   "nbconvert_exporter": "python",
   "pygments_lexer": "ipython3",
   "version": "3.8.0"
  }
 },
 "nbformat": 4,
 "nbformat_minor": 2
}
